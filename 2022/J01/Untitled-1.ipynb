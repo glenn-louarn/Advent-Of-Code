{
 "cells": [
  {
   "cell_type": "code",
   "execution_count": 33,
   "metadata": {},
   "outputs": [
    {
     "name": "stdout",
     "output_type": "stream",
     "text": [
      "208437\n"
     ]
    }
   ],
   "source": [
    "f = open(\"puzzle.txt\")\n",
    "data  = f.read()\n",
    "a = data.split(\"\\n\")\n",
    "elfeDonnee = [];\n",
    "elfeDonnee.append([])\n",
    "elfeDonneeVal = [];\n",
    "pos = 0;\n",
    "for c in a :\n",
    "    if c == '':\n",
    "        elfeDonneeVal.append( {\"position\" : pos,  \"val\" : sum(elfeDonnee[pos])})\n",
    "        pos +=1\n",
    "        elfeDonnee.append([])\n",
    "    else:\n",
    "        elfeDonnee[pos].append(int(c))\n",
    "\n",
    "# print(elfeDonneeVal)\n",
    "\n",
    "newlist = sorted(elfeDonneeVal, key=lambda x: x['val'], reverse=True)\n",
    "\n",
    "print(newlist[0]['val']+newlist[1]['val']+newlist[2]['val'])\n",
    "\n"
   ]
  },
  {
   "cell_type": "code",
   "execution_count": null,
   "metadata": {},
   "outputs": [],
   "source": []
  }
 ],
 "metadata": {
  "kernelspec": {
   "display_name": "Python 3.11.0 64-bit",
   "language": "python",
   "name": "python3"
  },
  "language_info": {
   "codemirror_mode": {
    "name": "ipython",
    "version": 3
   },
   "file_extension": ".py",
   "mimetype": "text/x-python",
   "name": "python",
   "nbconvert_exporter": "python",
   "pygments_lexer": "ipython3",
   "version": "3.11.0"
  },
  "orig_nbformat": 4,
  "vscode": {
   "interpreter": {
    "hash": "f7c2954de314bf0cad1e8c324db2b03c5f96e20d32e70b70b39b809b8c9e02fb"
   }
  }
 },
 "nbformat": 4,
 "nbformat_minor": 2
}
