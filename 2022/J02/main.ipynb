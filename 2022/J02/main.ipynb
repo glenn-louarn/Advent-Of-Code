{
 "cells": [
  {
   "cell_type": "code",
   "execution_count": 10,
   "metadata": {},
   "outputs": [
    {
     "name": "stdout",
     "output_type": "stream",
     "text": [
      "10595\n"
     ]
    }
   ],
   "source": [
    "f = open(\"input.txt\")\n",
    "data  = f.read()\n",
    "list = data.split(\"\\n\")\n",
    "res= 0\n",
    "#rock paper scissors\n",
    "\n",
    "\n",
    "c = {\"A\" : {\"X\" : 3 ,\"Y\" : 6 ,\"Z\" : 0 },\"B\" : {\"X\" : 0 ,\"Y\" : 3 ,\"Z\" : 6 },\"C\" : {\"X\" : 6 ,\"Y\" : 0 ,\"Z\" : 3 }}\n",
    "\n",
    "\n",
    "ad = {\"X\":1, \"Y\":2,\"Z\":3}\n",
    "for m in list :\n",
    "    t = m.split(\" \");\n",
    "    # print(t)\n",
    "    # print(c[t[0]][t[1]])\n",
    "    res += c[t[0]][t[1]] + ad[t[1]]\n",
    "\n",
    "print(res)\n",
    "\n",
    "\n"
   ]
  },
  {
   "cell_type": "code",
   "execution_count": 12,
   "metadata": {},
   "outputs": [
    {
     "name": "stdout",
     "output_type": "stream",
     "text": [
      "9541\n"
     ]
    }
   ],
   "source": [
    "f = open(\"input.txt\")\n",
    "data  = f.read()\n",
    "list = data.split(\"\\n\")\n",
    "res= 0\n",
    "#rock paper scissors\n",
    "c = {\"A\" : {\"X\" : 3 ,\"Y\" : 1 ,\"Z\" : 2},\"B\" : {\"X\" : 1 ,\"Y\" : 2 ,\"Z\" : 3 },\"C\" : {\"X\" : 2 ,\"Y\" : 3 ,\"Z\" : 1 }}\n",
    "ad = {\"X\":0, \"Y\":3,\"Z\":6}\n",
    "for m in list :\n",
    "    t = m.split(\" \");\n",
    "    # print(t)\n",
    "    # print(c[t[0]][t[1]])\n",
    "    res += c[t[0]][t[1]] + ad[t[1]]\n",
    "\n",
    "print(res)\n",
    "\n",
    "\n"
   ]
  }
 ],
 "metadata": {
  "kernelspec": {
   "display_name": "Python 3.11.0 64-bit",
   "language": "python",
   "name": "python3"
  },
  "language_info": {
   "codemirror_mode": {
    "name": "ipython",
    "version": 3
   },
   "file_extension": ".py",
   "mimetype": "text/x-python",
   "name": "python",
   "nbconvert_exporter": "python",
   "pygments_lexer": "ipython3",
   "version": "3.11.0"
  },
  "orig_nbformat": 4,
  "vscode": {
   "interpreter": {
    "hash": "f7c2954de314bf0cad1e8c324db2b03c5f96e20d32e70b70b39b809b8c9e02fb"
   }
  }
 },
 "nbformat": 4,
 "nbformat_minor": 2
}
