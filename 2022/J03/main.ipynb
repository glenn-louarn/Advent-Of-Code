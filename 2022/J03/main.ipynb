{
 "cells": [
  {
   "cell_type": "code",
   "execution_count": 52,
   "metadata": {},
   "outputs": [
    {
     "name": "stdout",
     "output_type": "stream",
     "text": [
      "8088\n"
     ]
    }
   ],
   "source": [
    "f = open(\"input.txt\")\n",
    "data  = f.read()\n",
    "list = data.split(\"\\n\")\n",
    "res = 0\n",
    "\n",
    "def findVal(s1,s2): \n",
    "    for char in s1:\n",
    "        if s2.find(char) != -1:\n",
    "            if char.isupper(): \n",
    "                return ord(char)-64 + 26\n",
    "            else:\n",
    "                return ord(char)-96\n",
    "\n",
    "for s in list :\n",
    "    s1 = s[:len(s)//2]\n",
    "    s2 = s[len(s)//2:]\n",
    "    res +=findVal(s1,s2)\n",
    "print(res)\n"
   ]
  },
  {
   "cell_type": "code",
   "execution_count": 60,
   "metadata": {},
   "outputs": [
    {
     "name": "stdout",
     "output_type": "stream",
     "text": [
      "100\n",
      "2522\n"
     ]
    }
   ],
   "source": [
    "f = open(\"input.txt\")\n",
    "data  = f.read()\n",
    "list = data.split(\"\\n\")\n",
    "res = 0\n",
    "\n",
    "def findVal3(s1,s2,s3): \n",
    "    for char in s1:\n",
    "        if s2.find(char) != -1 and s3.find(char) != -1  :\n",
    "            if char.isupper(): \n",
    "                return ord(char)-64 + 26\n",
    "            else:\n",
    "                return ord(char)-96\n",
    "\n",
    "print(int(len(list)/3))\n",
    "for s in range(0,int(len(list)/3)) :\n",
    "    s1 = list[s*3]\n",
    "    s2 = list[s*3+1]\n",
    "    s3 = list[s*3+2]\n",
    "    \n",
    "    res +=findVal3(s1,s2,s3)\n",
    "print(res)\n"
   ]
  }
 ],
 "metadata": {
  "kernelspec": {
   "display_name": "Python 3.11.0 64-bit",
   "language": "python",
   "name": "python3"
  },
  "language_info": {
   "codemirror_mode": {
    "name": "ipython",
    "version": 3
   },
   "file_extension": ".py",
   "mimetype": "text/x-python",
   "name": "python",
   "nbconvert_exporter": "python",
   "pygments_lexer": "ipython3",
   "version": "3.11.0"
  },
  "orig_nbformat": 4,
  "vscode": {
   "interpreter": {
    "hash": "f7c2954de314bf0cad1e8c324db2b03c5f96e20d32e70b70b39b809b8c9e02fb"
   }
  }
 },
 "nbformat": 4,
 "nbformat_minor": 2
}
