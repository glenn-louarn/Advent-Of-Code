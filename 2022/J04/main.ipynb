{
 "cells": [
  {
   "cell_type": "code",
   "execution_count": 41,
   "metadata": {},
   "outputs": [
    {
     "name": "stdout",
     "output_type": "stream",
     "text": [
      "547\n"
     ]
    }
   ],
   "source": [
    "f = open(\"input.txt\")\n",
    "data  = f.read()\n",
    "list = data.split(\"\\n\")\n",
    "res = 0\n",
    "def t(pair1, pair2):\n",
    "    if int(pair1[0])<=int(pair2[0]) and (int(pair1[1])>=int(pair2[1])): \n",
    "        return True\n",
    "    if int(pair1[0])>=int(pair2[0]) and (int(pair1[1])<=int(pair2[1])): \n",
    "        return True \n",
    "    return False\n",
    "\n",
    "\n",
    "for s in list :\n",
    "    pair = s.split(\",\")\n",
    "    pair1 = pair[0].split(\"-\")\n",
    "    pair2 = pair[1].split(\"-\")\n",
    "    if t(pair1,pair2):\n",
    "        res+=1\n",
    "print(res)\n"
   ]
  },
  {
   "cell_type": "code",
   "execution_count": 46,
   "metadata": {},
   "outputs": [
    {
     "name": "stdout",
     "output_type": "stream",
     "text": [
      "843\n"
     ]
    }
   ],
   "source": [
    "f = open(\"input.txt\")\n",
    "data  = f.read()\n",
    "list = data.split(\"\\n\")\n",
    "res = 0\n",
    "def t(pair1, pair2):\n",
    "    if int(pair1[0])<= int(pair2[0])<=int(pair1[1]) or int(pair1[0])<= int(pair2[1])<=int(pair1[1]): \n",
    "        return True\n",
    "    if int(pair2[0])<= int(pair1[0])<=int(pair2[1]) or int(pair2[0])<= int(pair1[1])<=int(pair2[1]): \n",
    "        return True \n",
    "    return False\n",
    "\n",
    "\n",
    "for s in list :\n",
    "    pair = s.split(\",\")\n",
    "    pair1 = pair[0].split(\"-\")\n",
    "    pair2 = pair[1].split(\"-\")\n",
    "    if t(pair1,pair2):\n",
    "        res+=1\n",
    "print(res)"
   ]
  }
 ],
 "metadata": {
  "kernelspec": {
   "display_name": "Python 3.11.0 64-bit",
   "language": "python",
   "name": "python3"
  },
  "language_info": {
   "codemirror_mode": {
    "name": "ipython",
    "version": 3
   },
   "file_extension": ".py",
   "mimetype": "text/x-python",
   "name": "python",
   "nbconvert_exporter": "python",
   "pygments_lexer": "ipython3",
   "version": "3.11.0"
  },
  "orig_nbformat": 4,
  "vscode": {
   "interpreter": {
    "hash": "f7c2954de314bf0cad1e8c324db2b03c5f96e20d32e70b70b39b809b8c9e02fb"
   }
  }
 },
 "nbformat": 4,
 "nbformat_minor": 2
}
