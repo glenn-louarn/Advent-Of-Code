{
 "cells": [
  {
   "cell_type": "code",
   "execution_count": 44,
   "metadata": {},
   "outputs": [
    {
     "name": "stdout",
     "output_type": "stream",
     "text": [
      "[['D', 'H', 'R', 'Z', 'S', 'P', 'W', 'Q'], ['F', 'H', 'Q', 'W', 'R', 'B', 'V'], ['H', 'S', 'V', 'C'], ['G', 'F', 'H'], ['Z', 'B', 'J', 'G', 'P'], ['L', 'F', 'W', 'H', 'J', 'T', 'Q'], ['N', 'J', 'V', 'L', 'D', 'W', 'T', 'Z'], ['F', 'H', 'G', 'J', 'C', 'Z', 'T', 'D'], ['H', 'B', 'M', 'V', 'P', 'W']]\n",
      "HZFZCCWWV\n"
     ]
    }
   ],
   "source": [
    "f = open(\"stack.txt\")\n",
    "data  = f.read()\n",
    "list = data.split(\"\\n\")\n",
    "stack = []\n",
    "for s in list :\n",
    "    stack.append(s.split(\" \"))\n",
    "f = open(\"input.txt\")\n",
    "d  = f.read()\n",
    "l = d.split(\"\\n\")\n",
    "\n",
    "print(stack)\n",
    "def move(move, fro, to):\n",
    "    # for i in range(0,move):\n",
    "    stack[to-1] =  stack[fro-1][0:move] + stack[to-1]\n",
    "    del stack[fro-1][0:move]\n",
    "\n",
    "for s in l : \n",
    "    a = s.split(\" \")\n",
    "    move(int(a[1]),int(a[3]),int(a[5]))\n",
    "\n",
    "\n",
    "res= \"\"\n",
    "for s in stack: \n",
    "    res += s[0]\n",
    "print(res)\n",
    "\n"
   ]
  },
  {
   "cell_type": "code",
   "execution_count": 46,
   "metadata": {},
   "outputs": [
    {
     "name": "stdout",
     "output_type": "stream",
     "text": [
      "843\n"
     ]
    }
   ],
   "source": [
    "f = open(\"input.txt\")\n",
    "data  = f.read()\n",
    "list = data.split(\"\\n\")\n",
    "res = 0\n",
    "def t(pair1, pair2):\n",
    "    if int(pair1[0])<= int(pair2[0])<=int(pair1[1]) or int(pair1[0])<= int(pair2[1])<=int(pair1[1]): \n",
    "        return True\n",
    "    if int(pair2[0])<= int(pair1[0])<=int(pair2[1]) or int(pair2[0])<= int(pair1[1])<=int(pair2[1]): \n",
    "        return True \n",
    "    return False\n",
    "\n",
    "\n",
    "for s in list :\n",
    "    pair = s.split(\",\")\n",
    "    pair1 = pair[0].split(\"-\")\n",
    "    pair2 = pair[1].split(\"-\")\n",
    "    if t(pair1,pair2):\n",
    "        res+=1\n",
    "print(res)"
   ]
  },
  {
   "cell_type": "code",
   "execution_count": 27,
   "metadata": {},
   "outputs": [
    {
     "name": "stdout",
     "output_type": "stream",
     "text": [
      "['move', '1', 'from', '3', 'to', '9']\n",
      "list1[0]:  physics\n",
      "list2[1:5]:  [2, 3, 4, 5]\n",
      "list2[1:5]:  [1, 2, 3, 4, 5, 6, 7]\n"
     ]
    }
   ],
   "source": [
    "t= \"move 1 from 3 to 9\"\n",
    "a = t.split(\" \")\n",
    "print(a)\n",
    "\n",
    "list1 = ['physics', 'chemistry', 1997, 2000]\n",
    "list2 = [1, 2, 3, 4, 5, 6, 7 ]\n",
    "\n",
    "print (\"list1[0]: \", list1[0])\n",
    "print (\"list2[1:5]: \", list2[1:5])\n",
    "print (\"list2[1:5]: \", list2)"
   ]
  },
  {
   "cell_type": "code",
   "execution_count": 4,
   "metadata": {},
   "outputs": [
    {
     "name": "stdout",
     "output_type": "stream",
     "text": [
      "0.30000000000000004\n",
      "True\n"
     ]
    }
   ],
   "source": [
    "print(0.1+0.2)\n",
    "print(0.5+0.1==0.6)"
   ]
  }
 ],
 "metadata": {
  "kernelspec": {
   "display_name": "Python 3.11.0 64-bit",
   "language": "python",
   "name": "python3"
  },
  "language_info": {
   "codemirror_mode": {
    "name": "ipython",
    "version": 3
   },
   "file_extension": ".py",
   "mimetype": "text/x-python",
   "name": "python",
   "nbconvert_exporter": "python",
   "pygments_lexer": "ipython3",
   "version": "3.11.0"
  },
  "orig_nbformat": 4,
  "vscode": {
   "interpreter": {
    "hash": "f7c2954de314bf0cad1e8c324db2b03c5f96e20d32e70b70b39b809b8c9e02fb"
   }
  }
 },
 "nbformat": 4,
 "nbformat_minor": 2
}
