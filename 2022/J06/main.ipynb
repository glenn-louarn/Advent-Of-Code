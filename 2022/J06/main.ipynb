{
 "cells": [
  {
   "cell_type": "code",
   "execution_count": 15,
   "metadata": {},
   "outputs": [
    {
     "name": "stdout",
     "output_type": "stream",
     "text": [
      "1640\n"
     ]
    }
   ],
   "source": [
    "data= open(\"input.txt\").read()\n",
    "def first4() :\n",
    "    for s in range(0,len(data)) :\n",
    "        set = {*data[s:s+4]}\n",
    "        if(len(set)==4):\n",
    "            return(s+4)\n",
    "print(first4())"
   ]
  },
  {
   "cell_type": "code",
   "execution_count": 16,
   "metadata": {},
   "outputs": [
    {
     "name": "stdout",
     "output_type": "stream",
     "text": [
      "3613\n"
     ]
    }
   ],
   "source": [
    "data= open(\"input.txt\").read()\n",
    "def first14() :\n",
    "    for s in range(0,len(data)) :\n",
    "        set = {*data[s:s+14]}\n",
    "        if(len(set)==14):\n",
    "            return(s+14)\n",
    "print(first14())"
   ]
  }
 ],
 "metadata": {
  "kernelspec": {
   "display_name": "Python 3.11.0 64-bit",
   "language": "python",
   "name": "python3"
  },
  "language_info": {
   "codemirror_mode": {
    "name": "ipython",
    "version": 3
   },
   "file_extension": ".py",
   "mimetype": "text/x-python",
   "name": "python",
   "nbconvert_exporter": "python",
   "pygments_lexer": "ipython3",
   "version": "3.11.0"
  },
  "orig_nbformat": 4,
  "vscode": {
   "interpreter": {
    "hash": "f7c2954de314bf0cad1e8c324db2b03c5f96e20d32e70b70b39b809b8c9e02fb"
   }
  }
 },
 "nbformat": 4,
 "nbformat_minor": 2
}
