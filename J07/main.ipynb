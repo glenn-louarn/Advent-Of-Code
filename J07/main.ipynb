{
 "cells": [
  {
   "cell_type": "code",
   "execution_count": 66,
   "metadata": {},
   "outputs": [
    {
     "name": "stdout",
     "output_type": "stream",
     "text": [
      "part 2 : \n"
     ]
    }
   ],
   "source": [
    "data = open(\"input.txt\").read().split(\"\\n\")\n",
    "\n",
    "tree = {}\n",
    "\n",
    "\n",
    "\n",
    "current = []\n",
    "currentTree = tree\n",
    "def cdout() :\n",
    "    currentTree = tree\n",
    "    for e in current :\n",
    "        currentTree = currentTree[e]\n",
    "    return currentTree\n",
    "\n",
    "for i in range(0,len(data)) :\n",
    "    l= data[i]\n",
    "    if \"$ cd \" in l :\n",
    "        if \"$ cd ..\" in l :\n",
    "            current.pop()\n",
    "            currentTree = cdout()\n",
    "        else :\n",
    "            currentDir= l.replace(\"$ cd \",\"\")\n",
    "            current.append(currentDir)\n",
    "            currentTree[currentDir] = {}\n",
    "            currentTree = currentTree[currentDir]   \n",
    "    if \"$ ls\" in l :\n",
    "        i+=1\n",
    "        l= data[i]\n",
    "        while \"$\" not in l :\n",
    "            if\"dir\" not in l :\n",
    "                file = l.split(\" \")\n",
    "                currentTree[file[1]] = int(file[0])\n",
    "            i+=1\n",
    "            if i==len(data) :\n",
    "                break;\n",
    "            l= data[i]\n",
    "        \n",
    "treeDir = {}\n",
    "tSize = 0\n",
    "\n",
    "def t(c,treeD):\n",
    "    global tSize\n",
    "    res = 0\n",
    "    for k in c:\n",
    "        if isinstance(c[k],int):\n",
    "            res += c[k]\n",
    "        else : \n",
    "            treeD[k] = {\"size\" :0, \"dir\":{} }\n",
    "            r = t(c[k],treeD[k][\"dir\"])\n",
    "            if(r<=100000):\n",
    "                tSize+=r\n",
    "            treeD[k][\"size\"] =r \n",
    "            res += r\n",
    "    return res\n",
    "        \n",
    "\n",
    "\n",
    "\n",
    "# print(\"part 1 : \",tree)\n",
    "t(tree,treeDir)\n",
    "print(\"part 1 : \",t(tree,treeDir))\n",
    "print(\"part 1 : \",treeDir)\n",
    "print(\"part 1 : \",tSize)\n",
    "print(\"part 2 : \")"
   ]
  },
  {
   "cell_type": "code",
   "execution_count": 74,
   "metadata": {},
   "outputs": [
    {
     "name": "stdout",
     "output_type": "stream",
     "text": [
      "42586708\n",
      "2586708\n",
      "part 2 :  2948823\n"
     ]
    }
   ],
   "source": [
    "data = open(\"input.txt\").read().split(\"\\n\")\n",
    "\n",
    "tree = {}\n",
    "current = []\n",
    "currentTree = tree\n",
    "def cdout() :\n",
    "    currentTree = tree\n",
    "    for e in current :\n",
    "        currentTree = currentTree[e]\n",
    "    return currentTree\n",
    "\n",
    "for i in range(0,len(data)) :\n",
    "    l= data[i]\n",
    "    if \"$ cd \" in l :\n",
    "        if \"$ cd ..\" in l :\n",
    "            current.pop()\n",
    "            currentTree = cdout()\n",
    "        else :\n",
    "            currentDir= l.replace(\"$ cd \",\"\")\n",
    "            current.append(currentDir)\n",
    "            currentTree[currentDir] = {}\n",
    "            currentTree = currentTree[currentDir]   \n",
    "    if \"$ ls\" in l :\n",
    "        i+=1\n",
    "        l= data[i]\n",
    "        while \"$\" not in l :\n",
    "            if\"dir\" not in l :\n",
    "                file = l.split(\" \")\n",
    "                currentTree[file[1]] = int(file[0])\n",
    "            i+=1\n",
    "            if i==len(data) :\n",
    "                break;\n",
    "            l= data[i]\n",
    "        \n",
    "treeDir = {}\n",
    "oSize = 0\n",
    "\n",
    "size = t(tree,treeDir)\n",
    "sizeTodelete = (size+30000000)-70000000\n",
    "oSize = 30000000\n",
    "size = t(tree,treeDir)\n",
    "\n",
    "def t(c,treeD):\n",
    "    global oSize\n",
    "    global sizeTodelete\n",
    "    res = 0\n",
    "    for k in c:\n",
    "        if isinstance(c[k],int):\n",
    "            res += c[k]\n",
    "        else : \n",
    "            treeD[k] = {\"size\" :0, \"dir\":{} }\n",
    "            r = t(c[k],treeD[k][\"dir\"])\n",
    "            if(r>=sizeTodelete):\n",
    "                if(r<oSize):\n",
    "                    oSize=r\n",
    "            treeD[k][\"size\"] =r \n",
    "            res += r\n",
    "    return res\n",
    "        \n",
    "print(\"part 2 : \",oSize)"
   ]
  }
 ],
 "metadata": {
  "kernelspec": {
   "display_name": "Python 3.11.0 64-bit",
   "language": "python",
   "name": "python3"
  },
  "language_info": {
   "codemirror_mode": {
    "name": "ipython",
    "version": 3
   },
   "file_extension": ".py",
   "mimetype": "text/x-python",
   "name": "python",
   "nbconvert_exporter": "python",
   "pygments_lexer": "ipython3",
   "version": "3.11.0"
  },
  "orig_nbformat": 4,
  "vscode": {
   "interpreter": {
    "hash": "f7c2954de314bf0cad1e8c324db2b03c5f96e20d32e70b70b39b809b8c9e02fb"
   }
  }
 },
 "nbformat": 4,
 "nbformat_minor": 2
}
