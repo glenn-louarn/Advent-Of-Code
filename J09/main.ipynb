{
 "cells": [
  {
   "cell_type": "code",
   "execution_count": 74,
   "metadata": {},
   "outputs": [
    {
     "name": "stdout",
     "output_type": "stream",
     "text": [
      "part 1 :  6243\n",
      "part 2 :  2630\n"
     ]
    }
   ],
   "source": [
    "from math import *\n",
    "import numpy as np\n",
    "data = []\n",
    "with open(\"input.txt\", \"r\") as file:\n",
    "    for row in file:\n",
    "        data.append(row.replace(\"\\n\", \"\"))\n",
    "\n",
    "\n",
    "\n",
    "def moveT(Hp,Tp) :\n",
    "    if(Hp==Tp):\n",
    "        return Tp\n",
    "    if abs(Tp[0]-Hp[0])<2 and abs(Tp[1]-Hp[1])<2 :\n",
    "        return Tp\n",
    "    \n",
    "    op = (Hp[0]-Tp[0])/2\n",
    "    Tp[0]=Tp[0]+int( ceil(op) if op>0 else floor(op))\n",
    "\n",
    "    op = (Hp[1]-Tp[1])/2\n",
    "    Tp[1]=Tp[1]+int( ceil(op) if op>0 else floor(op))\n",
    "    return Tp\n",
    "    \n",
    "#ligne colonne\n",
    "Hp = [0,0]\n",
    "Tp = [0,0]\n",
    "A={tuple(Tp)}\n",
    "\n",
    "for e in data :\n",
    "    d = e.split(\" \")\n",
    "    for _ in range(0,int(d[1])) :\n",
    "        match d[0] :\n",
    "            case \"R\": #droite\n",
    "                Hp[1]= Hp[1]+1\n",
    "            case \"U\": #haut\n",
    "                Hp[0]= Hp[0]+1\n",
    "            case \"L\": #gauche\n",
    "                Hp[1]= Hp[1]-1\n",
    "            case \"D\": #bas\n",
    "                Hp[0]= Hp[0]-1\n",
    "        Tp= moveT(Hp,Tp)\n",
    "        A.add(tuple(Tp))\n",
    "        # print(\"H : \",Hp , \"T\",Tp)\n",
    "\n",
    "print(\"part 1 : \",len(A))\n",
    "\n",
    "C= [[0,0],[0,0],[0,0],[0,0],[0,0],[0,0],[0,0],[0,0],[0,0],[0,0]]\n",
    "A={tuple(C[0])}\n",
    "\n",
    "for e in data :\n",
    "    d = e.split(\" \")\n",
    "    for _ in range(0,int(d[1])) :\n",
    "        match d[0] :\n",
    "            case \"R\": #droite\n",
    "                C[0][1]= C[0][1]+1\n",
    "            case \"U\": #haut\n",
    "                C[0][0]= C[0][0]+1\n",
    "            case \"L\": #gauche\n",
    "                C[0][1]= C[0][1]-1\n",
    "            case \"D\": #bas\n",
    "                C[0][0]= C[0][0]-1\n",
    "        for j in range(1,len(C)) :\n",
    "            C[j]= moveT(C[j-1],C[j])\n",
    "        \n",
    "        A.add(tuple(C[9]))\n",
    "\n",
    "print(\"part 2 : \",len(A))"
   ]
  },
  {
   "cell_type": "code",
   "execution_count": null,
   "metadata": {},
   "outputs": [],
   "source": []
  }
 ],
 "metadata": {
  "kernelspec": {
   "display_name": "Python 3.11.0 64-bit",
   "language": "python",
   "name": "python3"
  },
  "language_info": {
   "codemirror_mode": {
    "name": "ipython",
    "version": 3
   },
   "file_extension": ".py",
   "mimetype": "text/x-python",
   "name": "python",
   "nbconvert_exporter": "python",
   "pygments_lexer": "ipython3",
   "version": "3.11.0"
  },
  "orig_nbformat": 4,
  "vscode": {
   "interpreter": {
    "hash": "f7c2954de314bf0cad1e8c324db2b03c5f96e20d32e70b70b39b809b8c9e02fb"
   }
  }
 },
 "nbformat": 4,
 "nbformat_minor": 2
}
