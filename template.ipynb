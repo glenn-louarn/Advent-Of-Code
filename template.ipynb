{
 "cells": [
  {
   "cell_type": "code",
   "execution_count": null,
   "metadata": {},
   "outputs": [],
   "source": [
    "data = open(\"input.txt\").read()#.split(\"\\n\")\n",
    "\n",
    "def f() :\n",
    "\n",
    "\n",
    "for e in data :\n",
    "\n",
    "\n",
    "\n",
    "print(\"part 1 : \")\n",
    "print(\"part 2 : \")"
   ]
  }
 ],
 "metadata": {
  "kernelspec": {
   "display_name": "Python 3.11.0 64-bit",
   "language": "python",
   "name": "python3"
  },
  "language_info": {
   "name": "python",
   "version": "3.11.0"
  },
  "orig_nbformat": 4,
  "vscode": {
   "interpreter": {
    "hash": "f7c2954de314bf0cad1e8c324db2b03c5f96e20d32e70b70b39b809b8c9e02fb"
   }
  }
 },
 "nbformat": 4,
 "nbformat_minor": 2
}
